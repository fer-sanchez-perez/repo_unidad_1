{
 "cells": [
  {
   "cell_type": "code",
   "execution_count": 44,
   "id": "sunset-barrier",
   "metadata": {
    "scrolled": true
   },
   "outputs": [
    {
     "name": "stdout",
     "output_type": "stream",
     "text": [
      "12\n"
     ]
    }
   ],
   "source": [
    "#funciones y parametros opcionales\n",
    "def datos(x,y,j='None'):\n",
    "    if(j =='None'):\n",
    "        return x*y\n",
    "\n",
    "    return x*y*j\n",
    "\n",
    "print(datos(2,3,2))"
   ]
  },
  {
   "cell_type": "code",
   "execution_count": 30,
   "id": "unusual-ticket",
   "metadata": {},
   "outputs": [
    {
     "name": "stdout",
     "output_type": "stream",
     "text": [
      "20\n",
      "600\n"
     ]
    }
   ],
   "source": [
    "i=datos(5,2,2)\n",
    "print(i)\n",
    "\n",
    "o=datos(10,10,6)\n",
    "print(o)"
   ]
  },
  {
   "cell_type": "code",
   "execution_count": 31,
   "id": "imperial-vault",
   "metadata": {},
   "outputs": [
    {
     "name": "stdout",
     "output_type": "stream",
     "text": [
      "<class 'int'>\n",
      "<class 'str'>\n",
      "<class 'bool'>\n",
      "<class 'float'>\n",
      "<class 'function'>\n"
     ]
    }
   ],
   "source": [
    "a= 3\n",
    "b= 'holis'\n",
    "c= True\n",
    "d= 13.06\n",
    "\n",
    "#tipos de datos\n",
    "print(type(a))\n",
    "print(type(b))\n",
    "print(type(c))\n",
    "print(type(d))\n",
    "print(type(datos))\n"
   ]
  },
  {
   "cell_type": "code",
   "execution_count": 36,
   "id": "several-rebound",
   "metadata": {},
   "outputs": [
    {
     "name": "stdout",
     "output_type": "stream",
     "text": [
      "[1, 2, 3, 4, 10]\n",
      "<class 'list'>\n",
      "\n",
      "\n",
      "1\n",
      "\n",
      "\n",
      "1\n",
      "2\n",
      "3\n",
      "4\n",
      "10\n",
      "\n",
      "\n",
      "10\n",
      "1\n"
     ]
    }
   ],
   "source": [
    "#listas: crear, agregar, imprimir una posicion, recorrer con un ciclo e imprimir maximo y minimo\n",
    "t=[1,2,3,4]\n",
    "t.append(10)\n",
    "print(t)\n",
    "print(type(t))\n",
    "print(\"\\n\")\n",
    "print(t[0])\n",
    "print(\"\\n\")\n",
    "for i in range(len (t)):\n",
    "    print(t[i])\n",
    "print(\"\\n\")\n",
    "print(max(t))\n",
    "print(min(t))\n",
    "\n"
   ]
  },
  {
   "cell_type": "code",
   "execution_count": 40,
   "id": "future-invalid",
   "metadata": {},
   "outputs": [
    {
     "name": "stdout",
     "output_type": "stream",
     "text": [
      "('a', 'b', 'c', 'd')\n",
      "<class 'tuple'>\n",
      "\n",
      "\n",
      "a\n",
      "b\n",
      "c\n",
      "d\n"
     ]
    }
   ],
   "source": [
    "#tuplas: creacion y recorrer con un ciclo\n",
    "s=(\"a\",\"b\",\"c\",\"d\")\n",
    "print(s)\n",
    "print(type(s))\n",
    "print(\"\\n\")\n",
    "for item in s:\n",
    "    print(item)"
   ]
  },
  {
   "cell_type": "code",
   "execution_count": 42,
   "id": "requested-rental",
   "metadata": {},
   "outputs": [
    {
     "name": "stdout",
     "output_type": "stream",
     "text": [
      "['ciencia', 'de', 'datos', 'con', 'el', 'profe', 'rafa']\n",
      "['ciencia', 'de', 'datos', 'con el profe rafa']\n"
     ]
    }
   ],
   "source": [
    "#split de string\n",
    "\n",
    "print ('ciencia de datos con el profe rafa'.split())\n",
    "\n",
    "print('ciencia de datos con el profe rafa'.split(maxsplit=3))\n",
    "    "
   ]
  },
  {
   "cell_type": "code",
   "execution_count": null,
   "id": "internal-biography",
   "metadata": {},
   "outputs": [],
   "source": []
  }
 ],
 "metadata": {
  "kernelspec": {
   "display_name": "Python 3",
   "language": "python",
   "name": "python3"
  },
  "language_info": {
   "codemirror_mode": {
    "name": "ipython",
    "version": 3
   },
   "file_extension": ".py",
   "mimetype": "text/x-python",
   "name": "python",
   "nbconvert_exporter": "python",
   "pygments_lexer": "ipython3",
   "version": "3.6.9"
  }
 },
 "nbformat": 4,
 "nbformat_minor": 5
}
